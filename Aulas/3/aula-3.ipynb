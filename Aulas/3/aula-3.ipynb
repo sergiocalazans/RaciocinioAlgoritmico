{
 "cells": [
  {
   "cell_type": "markdown",
   "metadata": {},
   "source": [
    "# Aula 3 - Raciocínio Algorítmico\n",
    "## Operadores relacionais e Lógicos"
   ]
  },
  {
   "cell_type": "markdown",
   "metadata": {},
   "source": [
    "### Operados aritméticos"
   ]
  },
  {
   "cell_type": "markdown",
   "metadata": {},
   "source": [
    "#### - Utilizados para realizar comparações entre dois valores. Tais valores são representados por constantes, variáveis ou expressões aritméticas.\n",
    "\n",
    "<table>\n",
    "    <thead>\n",
    "        <tr>\n",
    "            <th>Operador</th>\n",
    "            <th>Função</th>\n",
    "            <th>Exemplos</th>\n",
    "        </tr>\n",
    "    </thead>\n",
    "    <tbody>\n",
    "        <tr>\n",
    "            <td>==</td>\n",
    "            <td>Igual a</td>\n",
    "            <td>3 == 3, x == y</td>\n",
    "        </tr>\n",
    "        <tr>\n",
    "            <td>></td>\n",
    "            <td>Maior que</td>\n",
    "            <td>5 > 4, x > y</td>\n",
    "        </tr>\n",
    "        <tr>\n",
    "            <td><</td>\n",
    "            <td>Menor que</td>\n",
    "            <td>3 < 6, x < y</td>\n",
    "        </tr>\n",
    "        <tr>\n",
    "            <td>>=</td>\n",
    "            <td>Maior ou igual a</td>\n",
    "            <td>5 >= 3, x >= y</td>\n",
    "        </tr>\n",
    "        <tr>\n",
    "            <td><=</td>\n",
    "            <td>Menor ou igual a</td>\n",
    "            <td>3 <= 5, x <= y</td>\n",
    "        </tr>\n",
    "        <tr>\n",
    "            <td>!=</td>\n",
    "            <td>Diferente de</td>\n",
    "            <td>8 != 9, x != y</td>\n",
    "        </tr>\n",
    "    </tbody>\n",
    "</table>\n",
    "\n",
    "\n",
    "#### - O resultado obtido é sempre um valor lógico (**True** ou **False**)."
   ]
  },
  {
   "cell_type": "code",
   "execution_count": 4,
   "metadata": {},
   "outputs": [
    {
     "data": {
      "text/plain": [
       "True"
      ]
     },
     "execution_count": 4,
     "metadata": {},
     "output_type": "execute_result"
    }
   ],
   "source": [
    "teste = 2 * 4 == 24 / 3\n",
    "teste"
   ]
  },
  {
   "cell_type": "code",
   "execution_count": 5,
   "metadata": {},
   "outputs": [
    {
     "data": {
      "text/plain": [
       "False"
      ]
     },
     "execution_count": 5,
     "metadata": {},
     "output_type": "execute_result"
    }
   ],
   "source": [
    "teste_2 = 15 % 4 < 19 % 6\n",
    "teste_2"
   ]
  },
  {
   "cell_type": "code",
   "execution_count": 6,
   "metadata": {},
   "outputs": [
    {
     "data": {
      "text/plain": [
       "True"
      ]
     },
     "execution_count": 6,
     "metadata": {},
     "output_type": "execute_result"
    }
   ],
   "source": [
    "teste_3 =  3 * 5 / 4 <= 3**2 / 0.5\n",
    "teste_3"
   ]
  },
  {
   "cell_type": "code",
   "execution_count": 8,
   "metadata": {},
   "outputs": [
    {
     "data": {
      "text/plain": [
       "True"
      ]
     },
     "execution_count": 8,
     "metadata": {},
     "output_type": "execute_result"
    }
   ],
   "source": [
    "teste_4 = 2 + 8 % 7 >= 3 * 6 - 15\n",
    "teste_4"
   ]
  },
  {
   "cell_type": "markdown",
   "metadata": {},
   "source": [
    "### Expressões Lógicas"
   ]
  },
  {
   "cell_type": "markdown",
   "metadata": {},
   "source": [
    "#### - Operadores Lógicos\n",
    "\n",
    "<p>Utilizaremos três conectivos (operadores) básicos para a formação de novas proposições lógicas compostas a partir de\n",
    "outras proposições lógicas simples: E, OU e NAO.</p>\n",
    "\n",
    "- AND\n",
    "- OR\n",
    "- NOT\n",
    "\n",
    "#### - Tabela Verdade\n",
    "\n",
    "<p>Conjunto das possibilidades combinatórias entre os valores de diversas variáveis lógicas, as quais se encontram em apenas duassituações ( Verdadeiro ou Falso ), e um conjunto de operadores lógicos. </p>\n",
    "\n",
    "\n",
    "<table>\n",
    "    <thead>\n",
    "        <tr>\n",
    "            <th>p</th>\n",
    "            <th>q</th>\n",
    "            <th>not p</th>\n",
    "            <th>p AND q</th>\n",
    "            <th>p OR q</th>\n",
    "        </tr>\n",
    "    </thead>\n",
    "    <tbody>\n",
    "        <tr>\n",
    "            <td>F</td>\n",
    "            <td>F</td>\n",
    "            <td>V</td>\n",
    "            <td>F</td>\n",
    "            <td>F</td>\n",
    "        </tr>\n",
    "         <tr>\n",
    "            <td>F</td>\n",
    "            <td>F</td>\n",
    "            <td>V</td>\n",
    "            <td>F</td>\n",
    "            <td>F</td>\n",
    "        </tr>\n",
    "        <tr>\n",
    "            <td>F</td>\n",
    "            <td>V</td>\n",
    "            <td>V</td>\n",
    "            <td>F</td>\n",
    "            <td>V</td>\n",
    "        </tr>\n",
    "        <tr>\n",
    "            <td>V</td>\n",
    "            <td>F</td>\n",
    "            <td>F</td>\n",
    "            <td>F</td>\n",
    "            <td>V</td>\n",
    "        </tr>\n",
    "        <tr>\n",
    "            <td>V</td>\n",
    "            <td>V</td>\n",
    "            <td>F</td>\n",
    "            <td>V</td>\n",
    "            <td>V</td>\n",
    "        </tr>\n",
    "    </tbody>\n",
    "</table>"
   ]
  },
  {
   "cell_type": "markdown",
   "metadata": {},
   "source": [
    "#### Ordem de Precedência"
   ]
  },
  {
   "cell_type": "markdown",
   "metadata": {},
   "source": [
    "<p>- Hierarquia de tratamento dos operadores.</p>\n",
    "<p>- Para os operadores lógicos:</p>\n",
    "<p style='color: red'>Antes: nao</p>\n",
    "<p style='color: red'>Depois: e, ou</p>\n",
    "<br>\n",
    "\n",
    "<p>- Para uso geral:</p>\n",
    "<p style='color: red'>Antes:</p>\n",
    "\n",
    "<ul style='color: red'>\n",
    "    <li>parênteses</li>\n",
    "    <li>operadores aritméticos (+,-,*,/)</li>\n",
    "    <li>operadores relacionais (>,<,>=,<=, ==, !=)</li>\n",
    "</ul>\n",
    "\n",
    "<p style='color: red'>Depois: operadores lógicos (not, and, or)</p>\n",
    "\n",
    "<p>- Ao realizarmos cálculos em qualquer linguagem de programação,\n",
    "precisamos levar em conta a precedência que temos entre as\n",
    "operações </p>\n",
    "\n"
   ]
  },
  {
   "cell_type": "markdown",
   "metadata": {},
   "source": [
    "### Exemplos"
   ]
  },
  {
   "cell_type": "code",
   "execution_count": 9,
   "metadata": {},
   "outputs": [
    {
     "data": {
      "text/plain": [
       "True"
      ]
     },
     "execution_count": 9,
     "metadata": {},
     "output_type": "execute_result"
    }
   ],
   "source": [
    "exemplo_1 = (True and False) or (True and not False)\n",
    "exemplo_1"
   ]
  },
  {
   "cell_type": "code",
   "execution_count": 11,
   "metadata": {},
   "outputs": [
    {
     "data": {
      "text/plain": [
       "False"
      ]
     },
     "execution_count": 11,
     "metadata": {},
     "output_type": "execute_result"
    }
   ],
   "source": [
    "exemplo_2 = not(True or True) and (False and False)\n",
    "exemplo_2"
   ]
  },
  {
   "cell_type": "code",
   "execution_count": 12,
   "metadata": {},
   "outputs": [
    {
     "data": {
      "text/plain": [
       "True"
      ]
     },
     "execution_count": 12,
     "metadata": {},
     "output_type": "execute_result"
    }
   ],
   "source": [
    "exemplo_3 =(not (5 != 10/2) or True) and ((2 - 5 > 5 - 2) or True)\n",
    "exemplo_3"
   ]
  },
  {
   "cell_type": "markdown",
   "metadata": {},
   "source": [
    "### Estrutura de Controle e Seleção"
   ]
  },
  {
   "cell_type": "markdown",
   "metadata": {},
   "source": [
    "##### Estrutura de Controle\n",
    "\n",
    "<p>- Para que os algoritmos possam tratar problemas mais\n",
    "complexos do que estes que estudamos até o\n",
    "momento, estruturas de controle devem ser utilizadas.</p>\n",
    "\n",
    "<p>- Estas estruturas permitirão controlar a execução de\n",
    "comandos de um algoritmo, permitindo: a repetição\n",
    "controlada de comandos, a decisão da execução ou\n",
    "não de comandos, dentre outros.</p>\n",
    "\n",
    "##### Estrutura de Seleção\n",
    "\n",
    "<p>- Estas estruturas permitem a seleção de um bloco de comandos a\n",
    "ser executado em função de uma condição (um teste) a ser\n",
    "realizado.</p>\n",
    "\n",
    "<p>- A condição ou teste a ser realizado (ou satisfeito) é descrita sob\n",
    "a forma de uma expressão lógico-aritmética-relacional.</p>\n",
    "\n",
    "\n"
   ]
  },
  {
   "cell_type": "code",
   "execution_count": 18,
   "metadata": {},
   "outputs": [
    {
     "name": "stdout",
     "output_type": "stream",
     "text": [
      "a\n",
      "b\n"
     ]
    }
   ],
   "source": [
    "x = 10\n",
    "y = 5\n",
    "\n",
    "if x > y and (50 > 20):\n",
    "    print('a')\n",
    "    print('b')"
   ]
  },
  {
   "cell_type": "markdown",
   "metadata": {},
   "source": [
    "### Estrutura de Seleção Composta"
   ]
  },
  {
   "cell_type": "markdown",
   "metadata": {},
   "source": [
    "```\n",
    "if <expressão de teste>: \n",
    "   <Comandos>\n",
    "else: \n",
    "   <Comandos>\n",
    "```\n",
    "\n",
    "<p>O comando deve possuir identação (tab) em relação a condição.</p>\n",
    "\n",
    "<p>Exemplo:</p>\n",
    "\n",
    "```\n",
    "if media < 4:\n",
    "   print(\"Reprovado\")\n",
    "else:\n",
    "   print(\"Final\")\n",
    "```\n",
    "\n",
    "<p>No exemplo, caso a media seja menor que 4.0 a mensagem “reprovado” será\n",
    "apresentada. SENÃO, será apresentado “Final”.</p>\n"
   ]
  },
  {
   "cell_type": "markdown",
   "metadata": {},
   "source": [
    "### Estrutura de Seleção Múltipla"
   ]
  },
  {
   "cell_type": "markdown",
   "metadata": {},
   "source": [
    "```\n",
    "if <teste>:\n",
    "    <comandos>\n",
    "elif <teste>:\n",
    "    <comandos>\n",
    "elif <teste>:\n",
    "    <comandos>\n",
    "else:\n",
    "    <comandos>\n",
    "\n",
    "```"
   ]
  }
 ],
 "metadata": {
  "kernelspec": {
   "display_name": "Python 3",
   "language": "python",
   "name": "python3"
  },
  "language_info": {
   "codemirror_mode": {
    "name": "ipython",
    "version": 3
   },
   "file_extension": ".py",
   "mimetype": "text/x-python",
   "name": "python",
   "nbconvert_exporter": "python",
   "pygments_lexer": "ipython3",
   "version": "3.13.1"
  }
 },
 "nbformat": 4,
 "nbformat_minor": 2
}
