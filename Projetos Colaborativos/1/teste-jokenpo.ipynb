{
 "cells": [
  {
   "cell_type": "markdown",
   "metadata": {},
   "source": [
    "# Jokenpô\n",
    "## (Pedra, Papel e Tesoura)"
   ]
  },
  {
   "cell_type": "markdown",
   "metadata": {},
   "source": [
    "### Entrada"
   ]
  },
  {
   "cell_type": "code",
   "execution_count": null,
   "metadata": {},
   "outputs": [
    {
     "name": "stdout",
     "output_type": "stream",
     "text": [
      "\n",
      "Bem-vindo ao Jokenpô! Aqui você jogará Pedra, Papel e Tesoura contra seus oponentes. Escolha uma das modalidades:\n",
      "\n",
      "1.Humano x Computador\n",
      "2.Humano x Humano\n",
      "3.Computador x Computador\n",
      "\n",
      "Modo de jogo: Humano x Humano.\n",
      "Jogadores: Sérgio e Máquina.\n"
     ]
    }
   ],
   "source": [
    "# Entrada\n",
    "\n",
    "# Dicionário das modalidades\n",
    "modalidades = {\n",
    "    1: \"Humano x Computador\",\n",
    "    2: \"Humano x Humano\",\n",
    "    3: \"Computador x Computador\"\n",
    "}\n",
    "\n",
    "# Boas-vindas\n",
    "print(\"\\nBem-vindo ao Jokenpô! Aqui você jogará Pedra, Papel e Tesoura contra seus oponentes. Escolha uma das modalidades:\\n\")\n",
    "\n",
    "# Laço de repetição da impressão das modalidades\n",
    "for key, value in modalidades.items():\n",
    "    print(f\"{key}.{value}\")\n",
    "\n",
    "# Entrada da escolha da modalidade\n",
    "modo_de_jogo = int(input(\"\\nDigite aqui a modalidade (1, 2 ou 3): \"))\n",
    "\n",
    "print(f\"\\nModo de jogo: {modalidades[modo_de_jogo]}.\")\n",
    "\n",
    "# Definição dos jogadores\n",
    "if modo_de_jogo == 2:\n",
    "    jogador = str(input(\"Defina o nome do jogador 1: \"))\n",
    "    jogador_2 = str(input(\"Defina o nome do jogador 2: \"))\n",
    "\n",
    "elif modo_de_jogo == 1:\n",
    "    jogador = str(input(\"Defina o nome do jogador: \"))\n",
    "    jogador_2 = \"Máquina\"\n",
    "        \n",
    "elif modo_de_jogo == 3:\n",
    "    jogador = \"Máquina 1\"\n",
    "    jogador_2 = \"Máquina 2\"\n",
    "\n",
    "print(f\"Jogadores: {jogador} e {jogador_2}.\")"
   ]
  },
  {
   "cell_type": "markdown",
   "metadata": {},
   "source": [
    "### Processamento"
   ]
  },
  {
   "cell_type": "code",
   "execution_count": 10,
   "metadata": {},
   "outputs": [],
   "source": [
    "# Processamento\n",
    "\n",
    "\n",
    "#   Funções: \n",
    "    \n",
    "#   1. definir_modo_de_jogo\n",
    "#   2. modo_humano_x_computador\n",
    "#   3. modo_computador_x_computador\n",
    "#   4. modo_humano_x_humano\n",
    "#   5. repetir_rodada\n",
    "   "
   ]
  }
 ],
 "metadata": {
  "kernelspec": {
   "display_name": "Python 3",
   "language": "python",
   "name": "python3"
  },
  "language_info": {
   "codemirror_mode": {
    "name": "ipython",
    "version": 3
   },
   "file_extension": ".py",
   "mimetype": "text/x-python",
   "name": "python",
   "nbconvert_exporter": "python",
   "pygments_lexer": "ipython3",
   "version": "3.13.1"
  }
 },
 "nbformat": 4,
 "nbformat_minor": 2
}
