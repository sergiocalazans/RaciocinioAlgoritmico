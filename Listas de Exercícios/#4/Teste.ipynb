{
 "cells": [
  {
   "cell_type": "code",
   "execution_count": 10,
   "id": "c7c8ae5e",
   "metadata": {},
   "outputs": [
    {
     "name": "stdout",
     "output_type": "stream",
     "text": [
      "\n",
      "O número 67 não é triangular\n",
      "[1, 3, 6, 10, 15, 21, 28, 36, 45, 55, 66, 78]\n"
     ]
    }
   ],
   "source": [
    "# Entrada\n",
    "num = int(input(\"\\nDigite um número inteiro: \"))\n",
    "x = 1\n",
    "triangular = [0] # Números triangulares\n",
    "\n",
    "# Processamento e Saída\n",
    "\n",
    "while triangular[-1] <= num:\n",
    "\n",
    "    triangular.append((x * (x + 1)) // 2)\n",
    "    x += 1\n",
    "    \n",
    "    if num in triangular:\n",
    "        print(f\"\\nO número {num} é triangular\")\n",
    "        break\n",
    "\n",
    "\n",
    "if num not in triangular:\n",
    "    print(f\"\\nO número {num} não é triangular\")\n",
    "\n",
    "triangular.pop(0)\n",
    "print(triangular)"
   ]
  }
 ],
 "metadata": {
  "kernelspec": {
   "display_name": "Python 3",
   "language": "python",
   "name": "python3"
  },
  "language_info": {
   "codemirror_mode": {
    "name": "ipython",
    "version": 3
   },
   "file_extension": ".py",
   "mimetype": "text/x-python",
   "name": "python",
   "nbconvert_exporter": "python",
   "pygments_lexer": "ipython3",
   "version": "3.13.1"
  }
 },
 "nbformat": 4,
 "nbformat_minor": 5
}
