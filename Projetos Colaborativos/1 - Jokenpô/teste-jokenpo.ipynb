{
 "cells": [
  {
   "cell_type": "markdown",
   "metadata": {},
   "source": [
    "# Jokenpô\n",
    "## (Pedra, Papel e Tesoura)"
   ]
  },
  {
   "cell_type": "markdown",
   "metadata": {},
   "source": [
    "### Entrada"
   ]
  },
  {
   "cell_type": "code",
   "execution_count": 1,
   "metadata": {},
   "outputs": [
    {
     "name": "stdout",
     "output_type": "stream",
     "text": [
      "\n",
      "Bem-vindo ao Jokenpô! Aqui você jogará Pedra, Papel e Tesoura contra seus oponentes. Escolha uma das modalidades:\n",
      "\n",
      "1.Humano x Computador\n",
      "2.Humano x Humano\n",
      "3.Computador x Computador\n",
      "\n",
      "Modo de jogo: Humano x Computador.\n",
      "Jogadores: Sérgio e Máquina.\n"
     ]
    }
   ],
   "source": [
    "# Entrada\n",
    "\n",
    "# Dicionário das modalidades\n",
    "modalidades = {\n",
    "    1: \"Humano x Computador\",\n",
    "    2: \"Humano x Humano\",\n",
    "    3: \"Computador x Computador\"\n",
    "}\n",
    "\n",
    "# Boas-vindas\n",
    "print(\"\\nBem-vindo ao Jokenpô! Aqui você jogará Pedra, Papel e Tesoura contra seus oponentes. Escolha uma das modalidades:\\n\")\n",
    "\n",
    "# Laço de repetição da impressão das modalidades\n",
    "for key, value in modalidades.items():\n",
    "    print(f\"{key}.{value}\")\n",
    "\n",
    "# Entrada da escolha da modalidade\n",
    "modo_de_jogo = int(input(\"\\nDigite aqui a modalidade (1, 2 ou 3): \"))\n",
    "\n",
    "print(f\"\\nModo de jogo: {modalidades[modo_de_jogo]}.\")\n",
    "\n",
    "# Definição dos jogadores\n",
    "if modo_de_jogo == 2:\n",
    "    jogador = str(input(\"Defina o nome do jogador 1: \"))\n",
    "    jogador_2 = str(input(\"Defina o nome do jogador 2: \"))\n",
    "\n",
    "elif modo_de_jogo == 1:\n",
    "    jogador = str(input(\"Defina o nome do jogador: \"))\n",
    "    jogador_2 = \"Máquina\"\n",
    "        \n",
    "elif modo_de_jogo == 3:\n",
    "    jogador = \"Máquina 1\"\n",
    "    jogador_2 = \"Máquina 2\"\n",
    "\n",
    "print(f\"Jogadores: {jogador} e {jogador_2}.\")"
   ]
  },
  {
   "cell_type": "markdown",
   "metadata": {},
   "source": [
    "### Processamento"
   ]
  },
  {
   "cell_type": "code",
   "execution_count": null,
   "metadata": {},
   "outputs": [
    {
     "data": {
      "text/plain": [
       "'def jogo(m):\\n\\n    if m == 3:\\n        p1 = rd.randrange(0, 2)\\n        p2 = rd.randrange(0, 2)\\n\\n    elif m == 1:\\n        p1 = int(input(\"Digite uma ação(Pedra, Papel ou Tesoura): \"))\\n        p2 = rd.randrange(0, 2)\\n    \\n        \\n    if p1 == p2:\\n        return \"Empate\"\\n    elif p1 == 0 and p2 == 2:\\n        return \"P1 ganhou\"\\n    elif p1 == 2 and p2 == 1:\\n        return'"
      ]
     },
     "execution_count": 2,
     "metadata": {},
     "output_type": "execute_result"
    }
   ],
   "source": [
    "# Processamento\n",
    "\n",
    "\n",
    "# Importando a biblioteca random\n",
    "\n",
    "import random as rd\n",
    "\n",
    "# Dicionário das ações\n",
    "acoes = {\n",
    "        0: \"Pedra\",\n",
    "        1: \"Papel\",\n",
    "        2: \"Tesoura\"\n",
    "    }\n",
    "\n",
    "\n",
    "p1 = 0 # Ação do jogador\n",
    "p2 = 0 # Ação do jogador_2\n",
    "\n",
    "'''def definir_regras(modo):\n",
    "\n",
    "    for key, value in acoes:\n",
    "        print(f\"Digite {key} para {value}\")\n",
    "    \n",
    "    print(\"Pedra ganha da tesoura / Tesoura ganha do papel / Papel ganha da pedra\")\n",
    "\n",
    "    return jogo(modo)'''\n",
    "\n",
    "'''def jogo(m):\n",
    "\n",
    "    if m == 3:\n",
    "        p1 = rd.randrange(0, 2)\n",
    "        p2 = rd.randrange(0, 2)\n",
    "\n",
    "    elif m == 1:\n",
    "        p1 = int(input(\"Digite uma ação(Pedra, Papel ou Tesoura): \"))\n",
    "        p2 = rd.randrange(0, 2)\n",
    "    \n",
    "        \n",
    "    if p1 == p2:\n",
    "        return \"Empate\"\n",
    "    elif p1 == 0 and p2 == 2:\n",
    "        return \"P1 ganhou\"\n",
    "    elif p1 == 2 and p2 == 1:\n",
    "        return'''\n",
    "\n",
    "            \n",
    "    \n",
    "    \n",
    "    \n",
    "\n",
    "    \n",
    "\n",
    "    \n",
    "    "
   ]
  }
 ],
 "metadata": {
  "kernelspec": {
   "display_name": "Python 3",
   "language": "python",
   "name": "python3"
  },
  "language_info": {
   "codemirror_mode": {
    "name": "ipython",
    "version": 3
   },
   "file_extension": ".py",
   "mimetype": "text/x-python",
   "name": "python",
   "nbconvert_exporter": "python",
   "pygments_lexer": "ipython3",
   "version": "3.13.1"
  }
 },
 "nbformat": 4,
 "nbformat_minor": 2
}
