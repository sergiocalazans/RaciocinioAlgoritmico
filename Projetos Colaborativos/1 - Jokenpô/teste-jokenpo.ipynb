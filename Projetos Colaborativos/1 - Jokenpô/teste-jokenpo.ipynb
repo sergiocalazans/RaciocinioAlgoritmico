{
 "cells": [
  {
   "cell_type": "markdown",
   "metadata": {},
   "source": [
    "# Jokenpô\n",
    "## (Pedra, Papel e Tesoura)"
   ]
  },
  {
   "cell_type": "markdown",
   "metadata": {},
   "source": [
    "### Entrada"
   ]
  },
  {
   "cell_type": "code",
   "execution_count": 1,
   "metadata": {},
   "outputs": [
    {
     "name": "stdout",
     "output_type": "stream",
     "text": [
      "\n",
      "Bem-vindo ao Jokenpô! Aqui você jogará Pedra, Papel e Tesoura contra seus oponentes. Escolha uma das modalidades:\n",
      "\n",
      "1.Humano x Computador\n",
      "2.Humano x Humano\n",
      "3.Computador x Computador\n",
      "\n",
      "Modo de jogo: Humano x Computador.\n",
      "Jogadores: Sérgio e Máquina.\n"
     ]
    }
   ],
   "source": [
    "# Entrada\n",
    "\n",
    "# Dicionário das modalidades\n",
    "modalidades = {\n",
    "    1: \"Humano x Computador\",\n",
    "    2: \"Humano x Humano\",\n",
    "    3: \"Computador x Computador\"\n",
    "}\n",
    "\n",
    "# Boas-vindas\n",
    "print(\"\\nBem-vindo ao Jokenpô! Aqui você jogará Pedra, Papel e Tesoura contra seus oponentes. Escolha uma das modalidades:\\n\")\n",
    "\n",
    "# Laço de repetição da impressão das modalidades\n",
    "for key, value in modalidades.items():\n",
    "    print(f\"{key}.{value}\")\n",
    "\n",
    "# Entrada da escolha da modalidade\n",
    "modo_de_jogo = int(input(\"\\nDigite aqui a modalidade (1, 2 ou 3): \"))\n",
    "\n",
    "print(f\"\\nModo de jogo: {modalidades[modo_de_jogo]}.\")\n",
    "\n",
    "# Definição dos jogadores\n",
    "if modo_de_jogo == 2:\n",
    "    jogador = str(input(\"Defina o nome do jogador 1: \"))\n",
    "    jogador_2 = str(input(\"Defina o nome do jogador 2: \"))\n",
    "\n",
    "elif modo_de_jogo == 1:\n",
    "    jogador = str(input(\"Defina o nome do jogador: \"))\n",
    "    jogador_2 = \"Máquina\"\n",
    "        \n",
    "elif modo_de_jogo == 3:\n",
    "    jogador = \"Máquina 1\"\n",
    "    jogador_2 = \"Máquina 2\"\n",
    "\n",
    "print(f\"Jogadores: {jogador} e {jogador_2}.\")"
   ]
  },
  {
   "cell_type": "markdown",
   "metadata": {},
   "source": [
    "### Processamento"
   ]
  },
  {
   "cell_type": "code",
   "execution_count": null,
   "metadata": {},
   "outputs": [],
   "source": [
    "# Processamento\n",
    "\n",
    "\n",
    "# Importando a biblioteca random\n",
    "\n",
    "import random as rd\n",
    "\n",
    "# Dicionário das ações\n",
    "acoes = {\n",
    "        0: \"Pedra\",\n",
    "        1: \"Papel\",\n",
    "        2: \"Tesoura\"\n",
    "    }\n",
    "\n",
    "\n",
    "escolha_jogador = 0 # Ação do jogador\n",
    "escolha_jogador_2 = 0 # Ação do jogador_2\n",
    "\n",
    "def inicio(modo):\n",
    "\n",
    "    # Definir as regras\n",
    "    for key, value in acoes:\n",
    "        print(f\"\\nDigite {key} para {value}\")\n",
    "    \n",
    "    print(\"Pedra ganha da tesoura / Tesoura ganha do papel / Papel ganha da pedra\\n\")\n",
    "\n",
    "    # Começa o jogo\n",
    "    return jogo(modo)\n",
    "\n",
    "def jogo(modo):\n",
    "\n",
    "    if modo == 3:\n",
    "        escolha_jogador = rd.randrange(0, 2)\n",
    "        escolha_jogador_2 = rd.randrange(0, 2)\n",
    "\n",
    "    elif modo == 1:\n",
    "        escolha_jogador = int(input(\"\\nDigite uma ação(Pedra, Papel ou Tesoura): \"))\n",
    "        escolha_jogador_2 = rd.randrange(0, 2)\n",
    "    \n",
    "        \n",
    "    if escolha_jogador == escolha_jogador_2:\n",
    "        return \"\\nEmpate!\"\n",
    "    \n",
    "    elif (escolha_jogador == 0 and escolha_jogador_2 == 2) or \\\n",
    "         (escolha_jogador == 1 and escolha_jogador_2 == 0) or \\\n",
    "         (escolha_jogador == 2 and escolha_jogador_2 == 2):\n",
    "        return f\"\\n{jogador} venceu!\"\n",
    "\n",
    "    else:\n",
    "        return f\"\\n{jogador_2} perdeu!\"\n",
    "\n",
    "            \n",
    "    \n",
    "    \n",
    "    \n",
    "\n",
    "    \n",
    "\n",
    "    \n",
    "    "
   ]
  },
  {
   "cell_type": "code",
   "execution_count": null,
   "metadata": {},
   "outputs": [
    {
     "ename": "KeyboardInterrupt",
     "evalue": "",
     "output_type": "error",
     "traceback": [
      "\u001b[1;31m---------------------------------------------------------------------------\u001b[0m",
      "\u001b[1;31mKeyboardInterrupt\u001b[0m                         Traceback (most recent call last)",
      "Cell \u001b[1;32mIn[1], line 6\u001b[0m\n\u001b[0;32m      3\u001b[0m x \u001b[38;5;241m=\u001b[39m \u001b[38;5;241m1\u001b[39m\n\u001b[0;32m      4\u001b[0m triangular \u001b[38;5;241m=\u001b[39m \u001b[38;5;241m0\u001b[39m\n\u001b[1;32m----> 6\u001b[0m \u001b[38;5;28;01mwhile\u001b[39;00m triangular \u001b[38;5;241m<\u001b[39m num:\n\u001b[0;32m      8\u001b[0m     triangular \u001b[38;5;241m=\u001b[39m (x \u001b[38;5;241m*\u001b[39m (x \u001b[38;5;241m+\u001b[39m \u001b[38;5;241m1\u001b[39m) \u001b[38;5;241m*\u001b[39m (x \u001b[38;5;241m+\u001b[39m \u001b[38;5;241m2\u001b[39m))\n\u001b[0;32m     10\u001b[0m     \u001b[38;5;28;01mif\u001b[39;00m triangular \u001b[38;5;241m==\u001b[39m num:\n",
      "\u001b[1;31mKeyboardInterrupt\u001b[0m: "
     ]
    }
   ],
   "source": [
    "num = int(input(\"Digite um número: \"))\n",
    "\n",
    "x = 1\n",
    "triangular = 0\n",
    "\n",
    "while triangular < num:\n",
    "\n",
    "    triangular = (x * (x + 1) * (x + 2))\n",
    "\n",
    "    if triangular == num:\n",
    "        print(\"é triangular\")\n",
    "    elif triangular > num:\n",
    "        print(\"não é tringular\")\n",
    "    \n",
    "    x += 1"
   ]
  }
 ],
 "metadata": {
  "kernelspec": {
   "display_name": "Python 3",
   "language": "python",
   "name": "python3"
  },
  "language_info": {
   "codemirror_mode": {
    "name": "ipython",
    "version": 3
   },
   "file_extension": ".py",
   "mimetype": "text/x-python",
   "name": "python",
   "nbconvert_exporter": "python",
   "pygments_lexer": "ipython3",
   "version": "3.13.1"
  }
 },
 "nbformat": 4,
 "nbformat_minor": 2
}
