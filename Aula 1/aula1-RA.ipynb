{
 "cells": [
  {
   "cell_type": "markdown",
   "metadata": {},
   "source": [
    "# Aula 1 - Raciocínio Algorítmico\n",
    "## Introdução ao Python"
   ]
  },
  {
   "cell_type": "code",
   "execution_count": 12,
   "metadata": {},
   "outputs": [
    {
     "name": "stdout",
     "output_type": "stream",
     "text": [
      "Olá Mundo\n"
     ]
    }
   ],
   "source": [
    "print(\"Olá Mundo\")"
   ]
  },
  {
   "cell_type": "markdown",
   "metadata": {},
   "source": [
    "#### Entrada -> -> Processam. -> -> Saída"
   ]
  },
  {
   "cell_type": "markdown",
   "metadata": {},
   "source": [
    "## Variáveis"
   ]
  },
  {
   "cell_type": "markdown",
   "metadata": {},
   "source": [
    "### **Regras:**\n",
    "\n",
    "- Começam com letras ou _\n",
    "- Não podem começar com número\n",
    "- Apenas alfanúmericos (a-z, A-Z, 0-9 e _)\n",
    "- Case-sensitive\n",
    "- Evitar Carcteres compostos (acentuados)\n",
    "\n",
    "### **Boas Práticas:**\n",
    "\n",
    "- Usar nomes significativos de variáveis\n",
    "- Utilizaremos a prática de camelCase\n",
    "###### Exemplo: custoPassagem\n"
   ]
  },
  {
   "cell_type": "code",
   "execution_count": 13,
   "metadata": {},
   "outputs": [
    {
     "data": {
      "text/plain": [
       "17"
      ]
     },
     "execution_count": 13,
     "metadata": {},
     "output_type": "execute_result"
    }
   ],
   "source": [
    "idade = 17\n",
    "idade"
   ]
  },
  {
   "cell_type": "code",
   "execution_count": 14,
   "metadata": {},
   "outputs": [
    {
     "name": "stdout",
     "output_type": "stream",
     "text": [
      "Hello World!\n"
     ]
    }
   ],
   "source": [
    "print('Hello World!')"
   ]
  },
  {
   "cell_type": "markdown",
   "metadata": {},
   "source": [
    "## IMC"
   ]
  },
  {
   "cell_type": "code",
   "execution_count": 20,
   "metadata": {},
   "outputs": [
    {
     "name": "stdout",
     "output_type": "stream",
     "text": [
      "Sérgio, o seu IMC é: 21.007667798746546\n"
     ]
    }
   ],
   "source": [
    "# Definindo as variáveis de Entrada\n",
    "\n",
    "nome = str(input('Qual o seu nome?'))\n",
    "altura = float(input('Qual a sua altura? (em metros)' ))\n",
    "peso = int(input('Qual o seu peso? (em Kg)'))\n",
    "\n",
    "# Processamento\n",
    "\n",
    "imc = peso / (altura ** 2)\n",
    "\n",
    "# Saída\n",
    "\n",
    "print(f'{nome}, o seu IMC é: {imc}')"
   ]
  },
  {
   "cell_type": "code",
   "execution_count": 19,
   "metadata": {},
   "outputs": [
    {
     "name": "stdout",
     "output_type": "stream",
     "text": [
      "Sérgio, o seu IMC é 21 e a classificação sua é Peso Normal\n"
     ]
    }
   ],
   "source": [
    "# Definindo as variáveis de Entrada\n",
    "\n",
    "nome = str(input('Qual o seu nome?'))\n",
    "alturaNome = float(input('Qual a sua altura? (em metros)' ))\n",
    "pesoNome = int(input('Qual o seu peso? (em Kg)'))\n",
    "\n",
    "# Processamento\n",
    "\n",
    "def calculoImc(altura, peso):\n",
    "\n",
    "    imc = float(peso / (altura ** 2))\n",
    "    resposta = \"\"\n",
    "\n",
    "    if imc <= 18.5:\n",
    "        resposta = \"Abaixo do Peso\"\n",
    "    elif 18.5 <= imc < 25:\n",
    "        resposta = \"Peso Normal\"\n",
    "    elif imc in range(25, 30):\n",
    "        resposta = \"Sobrepeso\"\n",
    "    elif imc in range(30, 35):\n",
    "        resposta = \"Obesidade\"\n",
    "    else:\n",
    "        resposta = \"Imc não encontrado\"\n",
    "\n",
    "    return print(f'{nome}, o seu IMC é {int(imc)} e a classificação sua é {resposta}')\n",
    "        \n",
    "\n",
    "# Saída\n",
    "\n",
    "calculoImc(alturaNome, pesoNome)"
   ]
  }
 ],
 "metadata": {
  "kernelspec": {
   "display_name": "Python 3",
   "language": "python",
   "name": "python3"
  },
  "language_info": {
   "codemirror_mode": {
    "name": "ipython",
    "version": 3
   },
   "file_extension": ".py",
   "mimetype": "text/x-python",
   "name": "python",
   "nbconvert_exporter": "python",
   "pygments_lexer": "ipython3",
   "version": "3.13.1"
  }
 },
 "nbformat": 4,
 "nbformat_minor": 2
}
