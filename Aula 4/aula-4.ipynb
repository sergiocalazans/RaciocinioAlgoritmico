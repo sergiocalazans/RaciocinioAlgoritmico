{
 "cells": [
  {
   "cell_type": "markdown",
   "metadata": {},
   "source": [
    "# Aula 4 - Raciocínio Algorítmico\n",
    "## Estrutura de repetição"
   ]
  },
  {
   "cell_type": "markdown",
   "metadata": {},
   "source": [
    "### Definição"
   ]
  },
  {
   "cell_type": "markdown",
   "metadata": {},
   "source": [
    "- Permite a execução, de forma repetida e controlada, de um\n",
    "bloco de comandos.\n",
    "\n",
    "- Uma estrutura de repetição, muitas vezes é conhecida\n",
    "como um “laço de repetição”.\n",
    "\n",
    "- Um bloco de comandos pode ser executado/repetido um\n",
    "número indeterminado de vezes. Porém, este número\n",
    "nunca pode ser infinito, pois neste caso aparece o que\n",
    "costuma-se chamar de “laço infinito”, do qual o algoritmo\n",
    "jamais sairá, causando um bloqueio (ou “travamento”) do\n",
    "programa.\n"
   ]
  },
  {
   "cell_type": "markdown",
   "metadata": {},
   "source": [
    "### Tipos"
   ]
  },
  {
   "cell_type": "markdown",
   "metadata": {},
   "source": [
    "#### (cont.) e (while)"
   ]
  },
  {
   "cell_type": "markdown",
   "metadata": {},
   "source": [
    "- Existem várias estruturas de repetição. Durante a\n",
    "programação, deve-se optar pela estrutura que mais\n",
    "convém com a necessidade (após o estudo de todas as\n",
    "estruturas, retornaremos a este ponto).\n"
   ]
  },
  {
   "cell_type": "markdown",
   "metadata": {},
   "source": [
    "- **Teste inicial:** antes mesmo do bloco de comandos interno\n",
    "ao laço ser executado uma vez, um teste de condição de\n",
    "repetição será realizado.\n",
    "\n",
    "- Formato geral:\n",
    "\n",
    "```\n",
    "while <condicao>:\n",
    "    bloco de comandos\n",
    "```\n",
    "\n",
    "- O bloco de comandos será repetido enquanto a condição\n",
    "for verdadeira.\n",
    "\n",
    "- Para controlar esta repetição várias possibilidades\n",
    "surgem. A mais usual é a utilização de uma variável\n",
    "contadora que é utilizada no teste de condição de parada.\n",
    "\n",
    "- Contador é, em geral, uma variável do tipo inteiro.\n"
   ]
  },
  {
   "cell_type": "markdown",
   "metadata": {},
   "source": [
    "##### Exemplo"
   ]
  },
  {
   "cell_type": "markdown",
   "metadata": {},
   "source": [
    "```\n",
    "contador = 0\n",
    "while contador < 10:\n",
    "    print (“Contador = ”, contador)\n",
    "    contador = contador + 1\n",
    "```\n",
    "\n",
    "- Enquanto condição for verdadeira, o bloco de comandos\n",
    "será executado.\n",
    "\n",
    "- Testar laço infinito."
   ]
  }
 ],
 "metadata": {
  "language_info": {
   "name": "python"
  }
 },
 "nbformat": 4,
 "nbformat_minor": 2
}
