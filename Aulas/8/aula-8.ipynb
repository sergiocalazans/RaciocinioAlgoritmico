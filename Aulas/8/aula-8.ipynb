{
 "cells": [
  {
   "cell_type": "markdown",
   "id": "765f5e76",
   "metadata": {},
   "source": [
    "# Aula 8 - Raciocínio Algorítmico\n",
    "## Matriz"
   ]
  },
  {
   "cell_type": "code",
   "execution_count": null,
   "id": "ca6e0556",
   "metadata": {},
   "outputs": [],
   "source": [
    "matriz = [[1,2,3], [4,5,6], [7,8,9]]\n",
    "quantidadeLinhas = len(matriz)\n",
    "quantidadeColunas = len(matriz[0])\n",
    "i = 0\n",
    "\n",
    "while i < quantidadeLinhas:\n",
    "    j = 0\n",
    "    while j < quantidadeColunas:\n",
    "        print(matriz[i][j])\n",
    "        j += 1\n",
    "    i += 1"
   ]
  },
  {
   "cell_type": "code",
   "execution_count": null,
   "id": "60a00729",
   "metadata": {},
   "outputs": [],
   "source": [
    "matriz = [[1,2,3], [4,5,6], [7,8,9]]\n",
    "quantidadeLinhas = len(matriz)\n",
    "quantidadeColunas = len(matriz[0])\n",
    "\n",
    "for i in range(quantidadeLinhas):\n",
    "    for j in range(quantidadeColunas):\n",
    "        print(matriz[i][j])\n"
   ]
  },
  {
   "cell_type": "markdown",
   "id": "8b97de67",
   "metadata": {},
   "source": [
    "### 1. Escreva um algoritmo que crie uma matriz de ordem 4x4 e imprima sua diagonal principal"
   ]
  },
  {
   "cell_type": "code",
   "execution_count": null,
   "id": "ec053ad8",
   "metadata": {},
   "outputs": [
    {
     "name": "stdout",
     "output_type": "stream",
     "text": [
      "1 2 3 4 \n",
      "5 6 7 8 \n",
      "9 10 11 12 \n",
      "13 14 15 16 \n",
      "\n",
      "1 0 0 0 \n",
      "0 6 0 0 \n",
      "0 0 11 0 \n",
      "0 0 0 16 \n"
     ]
    }
   ],
   "source": [
    "matriz = []\n",
    "qtdColunas = 4\n",
    "qtdLinhas = 4\n",
    "\n",
    "diagonal = []\n",
    "valor = 0 \n",
    "\n",
    "i = 0\n",
    "j = 1\n",
    "k = qtdColunas\n",
    "\n",
    "\n",
    "while i <= qtdLinhas-1:\n",
    "\n",
    "    lista = []\n",
    "\n",
    "    for x in range(j, k+1):\n",
    "\n",
    "        lista.append(x)\n",
    "    \n",
    "    for elemento in lista:\n",
    "        print(elemento, end=' ')\n",
    "        \n",
    "    print()\n",
    "    matriz.append(lista)\n",
    "\n",
    "    j += qtdColunas\n",
    "    k += qtdColunas\n",
    "    i += 1\n",
    "\n",
    "for linha in matriz:\n",
    "    \n",
    "    lista = []\n",
    "\n",
    "    for elemento in linha:\n",
    "\n",
    "        if elemento == matriz[valor][valor]:\n",
    "            lista.append(elemento)\n",
    "        else: \n",
    "            lista.append(0)\n",
    "    \n",
    "    valor += 1\n",
    "    diagonal.append(lista)\n",
    "\n",
    "    if len(diagonal) == qtdColunas:\n",
    "        break\n",
    "\n",
    "print()\n",
    "\n",
    "for linha in diagonal:\n",
    "    for elemento in linha:\n",
    "        print(elemento, end=' ')\n",
    "    print()"
   ]
  },
  {
   "cell_type": "markdown",
   "id": "9aca9bd0",
   "metadata": {},
   "source": [
    "### 2. Escreva um algoritmo que receba uma matriz de ordem 3x3 e imprima seus valores e em seguida a soma destes valores"
   ]
  },
  {
   "cell_type": "code",
   "execution_count": null,
   "id": "2d330bf9",
   "metadata": {},
   "outputs": [
    {
     "name": "stdout",
     "output_type": "stream",
     "text": [
      "1 2 3 \n",
      "4 5 6 \n",
      "7 8 9 \n",
      "\n",
      "A soma dos valores da 1ª linha é: 6\n",
      "A soma dos valores da 2ª linha é: 15\n",
      "A soma dos valores da 3ª linha é: 24\n",
      "\n",
      "A soma geral dos valores da matriz é: 45\n"
     ]
    }
   ],
   "source": [
    "matriz = [[1, 2, 3], [4, 5, 6], [7, 8, 9]]\n",
    "i = 0\n",
    "soma_valores = []\n",
    "soma_geral = 0\n",
    "\n",
    "for linha in matriz:\n",
    "    \n",
    "    soma = sum(linha)\n",
    "\n",
    "    for elemento in linha:\n",
    "        print(elemento, end=' ')\n",
    "\n",
    "    print()\n",
    "    soma_valores.append(soma)\n",
    "    soma_geral += soma\n",
    "\n",
    "print()\n",
    "\n",
    "for elemento in soma_valores:\n",
    "    print(f\"A soma dos valores da {i+1}ª linha é: {soma_valores[i]}\")\n",
    "    i += 1\n",
    "\n",
    "print(f\"\\nA soma geral dos valores da matriz é: {soma_geral}\")"
   ]
  },
  {
   "cell_type": "markdown",
   "id": "4000e77a",
   "metadata": {},
   "source": [
    "### Desafio 1"
   ]
  },
  {
   "cell_type": "code",
   "execution_count": 154,
   "id": "614cf372",
   "metadata": {},
   "outputs": [
    {
     "name": "stdout",
     "output_type": "stream",
     "text": [
      "1 1 1 1 1 1 \n",
      "1 1 1 1 1 1 \n",
      "1 1 1 1 1 1 \n",
      "1 1 1 1 1 1 \n",
      "1 1 1 1 1 1 \n",
      "1 1 1 1 1 1 \n",
      "1 1 1 1 1 1 \n",
      "1 1 1 1 1 1 \n"
     ]
    }
   ],
   "source": [
    "qtdLinhas = int(input(\"Digite uma quantidade de linhas inteiras: \"))\n",
    "qtdColunas = int(input(\"Digite uma quantidade de colunas inteiras: \"))\n",
    "\n",
    "matriz = []\n",
    "i = 0\n",
    "j = 1\n",
    "k = qtdColunas\n",
    "\n",
    "while i <= qtdLinhas-1:\n",
    "\n",
    "    lista = []\n",
    "\n",
    "    for x in range(j, k+1):\n",
    "        lista.append(1)\n",
    "    \n",
    "    for elemento in lista:\n",
    "        print(elemento, end=' ')\n",
    "        \n",
    "    print()\n",
    "    matriz.append(lista)\n",
    "    j += qtdColunas\n",
    "    k += qtdColunas\n",
    "    i += 1\n"
   ]
  },
  {
   "cell_type": "markdown",
   "id": "3c1adfe7",
   "metadata": {},
   "source": [
    "### Desafio 2"
   ]
  },
  {
   "cell_type": "code",
   "execution_count": 158,
   "id": "a9db611f",
   "metadata": {},
   "outputs": [
    {
     "name": "stdout",
     "output_type": "stream",
     "text": [
      "2 4 6 8 \n",
      "10 12 14 16 \n",
      "18 20 22 24 \n",
      "26 28 30 32 \n"
     ]
    }
   ],
   "source": [
    "qtdLinhas = int(input(\"Digite uma quantidade de linhas inteiras: \"))\n",
    "qtdColunas = int(input(\"Digite uma quantidade de colunas inteiras: \"))\n",
    "\n",
    "matriz = []\n",
    "i = 0\n",
    "j = 1\n",
    "k = qtdColunas\n",
    "\n",
    "while i <= qtdLinhas-1:\n",
    "\n",
    "    lista = []\n",
    "\n",
    "    for x in range(j, k+1):\n",
    "        lista.append(x*2)\n",
    "    \n",
    "    for elemento in lista:\n",
    "        print(elemento, end=' ')\n",
    "        \n",
    "    print()\n",
    "    matriz.append(lista)\n",
    "    j += qtdColunas\n",
    "    k += qtdColunas\n",
    "    i += 1"
   ]
  }
 ],
 "metadata": {
  "kernelspec": {
   "display_name": "Python 3",
   "language": "python",
   "name": "python3"
  },
  "language_info": {
   "codemirror_mode": {
    "name": "ipython",
    "version": 3
   },
   "file_extension": ".py",
   "mimetype": "text/x-python",
   "name": "python",
   "nbconvert_exporter": "python",
   "pygments_lexer": "ipython3",
   "version": "3.13.1"
  }
 },
 "nbformat": 4,
 "nbformat_minor": 5
}
